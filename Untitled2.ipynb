{
  "nbformat": 4,
  "nbformat_minor": 0,
  "metadata": {
    "colab": {
      "name": "Untitled2.ipynb",
      "provenance": [],
      "authorship_tag": "ABX9TyN69hbD2K53H86pIeNwBKo/",
      "include_colab_link": true
    },
    "kernelspec": {
      "name": "python3",
      "display_name": "Python 3"
    }
  },
  "cells": [
    {
      "cell_type": "markdown",
      "metadata": {
        "id": "view-in-github",
        "colab_type": "text"
      },
      "source": [
        "<a href=\"https://colab.research.google.com/github/uvsq22007155/l1-python/blob/master/Untitled2.ipynb\" target=\"_parent\"><img src=\"https://colab.research.google.com/assets/colab-badge.svg\" alt=\"Open In Colab\"/></a>"
      ]
    },
    {
      "cell_type": "code",
      "metadata": {
        "id": "zSsAj5WsZzmr"
      },
      "source": [
        "num1 = 15"
      ],
      "execution_count": 1,
      "outputs": []
    },
    {
      "cell_type": "code",
      "metadata": {
        "id": "el29SUMsZ7nb"
      },
      "source": [
        "num2 = 5"
      ],
      "execution_count": 2,
      "outputs": []
    },
    {
      "cell_type": "code",
      "metadata": {
        "colab": {
          "base_uri": "https://localhost:8080/"
        },
        "id": "xZnddJw0aIwf",
        "outputId": "fcb5e162-c466-482f-8b7e-33dbf9d22994"
      },
      "source": [
        "if num1 % num2 == 0 or num2 % num1 == 0:\r\n",
        "     print(\"Factors!\")\r\n",
        "else: \r\n",
        "     print(\"not factors!\")\r\n"
      ],
      "execution_count": 10,
      "outputs": [
        {
          "output_type": "stream",
          "text": [
            "Factors!\n"
          ],
          "name": "stdout"
        }
      ]
    },
    {
      "cell_type": "code",
      "metadata": {
        "id": "50YlQJTjahJ1"
      },
      "source": [
        ""
      ],
      "execution_count": null,
      "outputs": []
    },
    {
      "cell_type": "code",
      "metadata": {
        "colab": {
          "base_uri": "https://localhost:8080/"
        },
        "id": "F5rNIhh9bIkc",
        "outputId": "3f919577-e8ed-4030-9a23-a2a53b25398d"
      },
      "source": [
        "state = \"Georgia\"\r\n",
        "if state == \"New Jersey\" : \r\n",
        "        print(\"School isn't cancelled.\")\r\n",
        "elif state == \"North Carolina\" : \r\n",
        "        print(\"School is postponed.\")\r\n",
        "elif state == \"Georgia\" : \r\n",
        "        print(\"School is cancelled!\")\r\n",
        "else : \r\n",
        "        print(\"School's status is unknown\"),\r\n"
      ],
      "execution_count": 20,
      "outputs": [
        {
          "output_type": "stream",
          "text": [
            "School is cancelled!\n"
          ],
          "name": "stdout"
        }
      ]
    },
    {
      "cell_type": "code",
      "metadata": {
        "colab": {
          "base_uri": "https://localhost:8080/"
        },
        "id": "tJXwNSjnd0uY",
        "outputId": "65f434da-e10f-42a0-8d2c-8edc8834366f"
      },
      "source": [
        "year = int(input(\"Enter a year: \"))\r\n",
        "year = int(year)\r\n",
        "zodiacYear = year % 12\r\n",
        "if zodiacYear == 0 :\r\n",
        "       print(\"monkey\")\r\n",
        "elif zodiacYear == 1 :\r\n",
        "        print(\"rooster\")\r\n",
        "elif zodiacYear == 2 :\r\n",
        "        print(\"dog\")\r\n",
        "elif zodiacYear == 3 :\r\n",
        "        print(\"pig\")\r\n",
        "elif zodiacYear == 4 :\r\n",
        "        print(\"rat\")\r\n",
        "elif zodiacYear == 5 :\r\n",
        "        print(\"ox\")\r\n",
        "elif zodiacYear == 6 :\r\n",
        "        print(\"tiger\")\r\n",
        "elif zodiacYear == 7 :\r\n",
        "        print(\"rabbit\")\r\n",
        "elif zodiacYear == 8 :\r\n",
        "        print(\"dragon\")\r\n",
        "elif zodiacYear == 9 :\r\n",
        "        print(\"snake\")\r\n",
        "elif zodiacYear == 10 :\r\n",
        "        print(\"horse\")\r\n",
        "else: print(\"sheep\")\r\n",
        "\r\n",
        "\r\n"
      ],
      "execution_count": 22,
      "outputs": [
        {
          "output_type": "stream",
          "text": [
            "Enter a year: 1900\n",
            "rat\n"
          ],
          "name": "stdout"
        }
      ]
    },
    {
      "cell_type": "code",
      "metadata": {
        "colab": {
          "base_uri": "https://localhost:8080/",
          "height": 131
        },
        "id": "Zs7jNcf6eWQK",
        "outputId": "b6f89f8d-02c7-4531-9c73-366862f2652c"
      },
      "source": [
        "#temperature = -3.7 \r\n",
        "temperature = -3.7 \r\n",
        "celsius = True\r\n",
        "if celsius and temperature <= 0 :\r\n",
        "     print(\"Freezing\")\r\n",
        "elif not \r\n"
      ],
      "execution_count": 31,
      "outputs": [
        {
          "output_type": "error",
          "ename": "SyntaxError",
          "evalue": "ignored",
          "traceback": [
            "\u001b[0;36m  File \u001b[0;32m\"<ipython-input-31-64fe86555762>\"\u001b[0;36m, line \u001b[0;32m6\u001b[0m\n\u001b[0;31m    elif not celsius and temperature <= 32:\u001b[0m\n\u001b[0m                                           ^\u001b[0m\n\u001b[0;31mSyntaxError\u001b[0m\u001b[0;31m:\u001b[0m unexpected EOF while parsing\n"
          ]
        }
      ]
    },
    {
      "cell_type": "code",
      "metadata": {
        "id": "xeMxJskfhWZ-"
      },
      "source": [
        ""
      ],
      "execution_count": null,
      "outputs": []
    }
  ]
}